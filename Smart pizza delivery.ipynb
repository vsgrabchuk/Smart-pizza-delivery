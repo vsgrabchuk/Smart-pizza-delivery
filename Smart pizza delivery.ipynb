{
  "cells": [
    {
      "cell_type": "markdown",
      "metadata": {
        "id": "qYleFE0wpeW2"
      },
      "source": [
        "### Задача\n",
        "Крупная компания по доставке пиццы тестирует фичу в приложении\n",
        "- вечером курьеры заканчивают смену\n",
        "- во время пересменки эффективность доставки значительно проседает\n",
        "- новая фича - алгоритм построения маршрута до дома курьера через точки доставки\n",
        "\n",
        "Работает ли фича?"
      ]
    },
    {
      "cell_type": "markdown",
      "metadata": {
        "id": "1_0zx6z5peW5"
      },
      "source": [
        "### Данные"
      ]
    },
    {
      "cell_type": "code",
      "execution_count": null,
      "metadata": {
        "id": "P-c81mU2peW6"
      },
      "outputs": [],
      "source": [
        "import pandas as pd\n",
        "import scipy.stats as ss\n",
        "import numpy as np\n",
        "import pingouin as pg\n",
        "import seaborn as sns"
      ]
    },
    {
      "cell_type": "code",
      "execution_count": null,
      "metadata": {
        "scrolled": true,
        "id": "7ZNsnhn4peW7",
        "outputId": "7cc7eb4e-46e2-48a6-a756-83b181a25ebe"
      },
      "outputs": [
        {
          "data": {
            "text/html": [
              "<div>\n",
              "<style scoped>\n",
              "    .dataframe tbody tr th:only-of-type {\n",
              "        vertical-align: middle;\n",
              "    }\n",
              "\n",
              "    .dataframe tbody tr th {\n",
              "        vertical-align: top;\n",
              "    }\n",
              "\n",
              "    .dataframe thead th {\n",
              "        text-align: right;\n",
              "    }\n",
              "</style>\n",
              "<table border=\"1\" class=\"dataframe\">\n",
              "  <thead>\n",
              "    <tr style=\"text-align: right;\">\n",
              "      <th></th>\n",
              "      <th>order_id</th>\n",
              "      <th>delivery_time</th>\n",
              "      <th>district</th>\n",
              "      <th>experiment_group</th>\n",
              "    </tr>\n",
              "  </thead>\n",
              "  <tbody>\n",
              "    <tr>\n",
              "      <th>0</th>\n",
              "      <td>3159</td>\n",
              "      <td>44.0</td>\n",
              "      <td>Purlieus</td>\n",
              "      <td>control</td>\n",
              "    </tr>\n",
              "    <tr>\n",
              "      <th>1</th>\n",
              "      <td>10426</td>\n",
              "      <td>51.0</td>\n",
              "      <td>Purlieus</td>\n",
              "      <td>control</td>\n",
              "    </tr>\n",
              "    <tr>\n",
              "      <th>2</th>\n",
              "      <td>9155</td>\n",
              "      <td>46.0</td>\n",
              "      <td>Purlieus</td>\n",
              "      <td>control</td>\n",
              "    </tr>\n",
              "    <tr>\n",
              "      <th>3</th>\n",
              "      <td>10699</td>\n",
              "      <td>34.0</td>\n",
              "      <td>Purlieus</td>\n",
              "      <td>control</td>\n",
              "    </tr>\n",
              "    <tr>\n",
              "      <th>4</th>\n",
              "      <td>10061</td>\n",
              "      <td>43.0</td>\n",
              "      <td>Purlieus</td>\n",
              "      <td>control</td>\n",
              "    </tr>\n",
              "  </tbody>\n",
              "</table>\n",
              "</div>"
            ],
            "text/plain": [
              "   order_id  delivery_time  district experiment_group\n",
              "0      3159           44.0  Purlieus          control\n",
              "1     10426           51.0  Purlieus          control\n",
              "2      9155           46.0  Purlieus          control\n",
              "3     10699           34.0  Purlieus          control\n",
              "4     10061           43.0  Purlieus          control"
            ]
          },
          "execution_count": 2,
          "metadata": {},
          "output_type": "execute_result"
        }
      ],
      "source": [
        "df = pd.read_csv('pizza_delivery.csv')\n",
        "df.head()"
      ]
    },
    {
      "cell_type": "code",
      "execution_count": null,
      "metadata": {
        "id": "Br4xOvNLpeW8",
        "outputId": "c81eed7d-ab52-4eb0-d7a7-c48abbc04442"
      },
      "outputs": [
        {
          "data": {
            "text/plain": [
              "(20196, 4)"
            ]
          },
          "execution_count": 3,
          "metadata": {},
          "output_type": "execute_result"
        }
      ],
      "source": [
        "df.shape"
      ]
    },
    {
      "cell_type": "markdown",
      "metadata": {
        "id": "ohye6M7IpeW8"
      },
      "source": [
        "- order_id - id заказа\n",
        "- delivery_time - время доставки в минутах\n",
        "- district - район доставки\n",
        "- experiment_group - экспериментальная группа"
      ]
    },
    {
      "cell_type": "markdown",
      "metadata": {
        "id": "uDqN-CoUpeW8"
      },
      "source": [
        "### Решение"
      ]
    },
    {
      "cell_type": "markdown",
      "metadata": {
        "id": "AMWSUs1FpeW9"
      },
      "source": [
        "Имеющиеся группы"
      ]
    },
    {
      "cell_type": "code",
      "execution_count": null,
      "metadata": {
        "id": "NKeLBV0PpeW9",
        "outputId": "889e2e6b-7c75-4783-f373-e13c7e107c15"
      },
      "outputs": [
        {
          "data": {
            "text/plain": [
              "array(['control', 'test'], dtype=object)"
            ]
          },
          "execution_count": 4,
          "metadata": {},
          "output_type": "execute_result"
        }
      ],
      "source": [
        "df.experiment_group.unique()"
      ]
    },
    {
      "cell_type": "markdown",
      "metadata": {
        "id": "EFcoIiXUpeW-"
      },
      "source": [
        "Имеющиеся районы"
      ]
    },
    {
      "cell_type": "code",
      "execution_count": null,
      "metadata": {
        "id": "dyv2z3oJpeW-",
        "outputId": "eeb70580-2275-4c95-bd96-9abc069b485d"
      },
      "outputs": [
        {
          "data": {
            "text/plain": [
              "array(['Purlieus', 'Central', 'Suburb'], dtype=object)"
            ]
          },
          "execution_count": 5,
          "metadata": {},
          "output_type": "execute_result"
        }
      ],
      "source": [
        "df.district.unique()"
      ]
    },
    {
      "cell_type": "markdown",
      "metadata": {
        "id": "vTuuELfypeW-"
      },
      "source": [
        "#### Проверка гипотезы\n",
        "- H0: Разницы между средним временем доставки в тестовой и контрольной группе нет\n",
        "- H1: Разница между средним временем доставки в тестовой и контрольной группе есть\n",
        "\n",
        "Для проверки будет использоваться t-test\n",
        "\n",
        "Требования для использования t-теста:\n",
        "- отсутствие выбросов\n",
        "- гомогенность дисперсий\n",
        "- независимость наблюдений\n",
        "- желательно нормальность распределений"
      ]
    },
    {
      "cell_type": "code",
      "execution_count": null,
      "metadata": {
        "id": "ospW1GPEpeW-"
      },
      "outputs": [],
      "source": [
        "control_df = df[df.experiment_group == 'control']\n",
        "test_df = df[df.experiment_group == 'test']"
      ]
    },
    {
      "cell_type": "markdown",
      "metadata": {
        "id": "hd9NT8HUpeW_"
      },
      "source": [
        "_Размеры выборок_"
      ]
    },
    {
      "cell_type": "code",
      "execution_count": null,
      "metadata": {
        "id": "N1LiqP7lpeW_",
        "outputId": "96327a5e-c2de-4694-f3c0-1e7fd5d0b382"
      },
      "outputs": [
        {
          "data": {
            "text/plain": [
              "experiment_group\n",
              "test       10104\n",
              "control    10092\n",
              "dtype: int64"
            ]
          },
          "execution_count": 21,
          "metadata": {},
          "output_type": "execute_result"
        }
      ],
      "source": [
        "df.value_counts('experiment_group')"
      ]
    },
    {
      "cell_type": "markdown",
      "metadata": {
        "id": "41iN7ioYpeW_"
      },
      "source": [
        "=> размеры выборок сходны"
      ]
    },
    {
      "cell_type": "markdown",
      "metadata": {
        "id": "ubzz2Qb7peW_"
      },
      "source": [
        "_Нормальность распрделений_"
      ]
    },
    {
      "cell_type": "code",
      "execution_count": null,
      "metadata": {
        "id": "EjG5_w02peW_",
        "outputId": "9ada5409-d2e1-4ff1-d8e0-1dc2d7d03d95"
      },
      "outputs": [
        {
          "data": {
            "text/plain": [
              "district\n",
              "Central      669\n",
              "Purlieus    8781\n",
              "Suburb       642\n",
              "Name: delivery_time, dtype: int64"
            ]
          },
          "execution_count": 8,
          "metadata": {},
          "output_type": "execute_result"
        }
      ],
      "source": [
        "control_df.groupby('district').delivery_time.count()"
      ]
    },
    {
      "cell_type": "code",
      "execution_count": null,
      "metadata": {
        "scrolled": true,
        "id": "4r2l5GNPpeXA",
        "outputId": "ebc00696-b930-4ce6-b9f8-ea6427064add"
      },
      "outputs": [
        {
          "data": {
            "text/plain": [
              "district\n",
              "Central     AxesSubplot(0.125,0.125;0.775x0.755)\n",
              "Purlieus    AxesSubplot(0.125,0.125;0.775x0.755)\n",
              "Suburb      AxesSubplot(0.125,0.125;0.775x0.755)\n",
              "Name: delivery_time, dtype: object"
            ]
          },
          "execution_count": 7,
          "metadata": {},
          "output_type": "execute_result"
        },
        {
          "data": {
            "image/png": "[encoded data removed]",
            "text/plain": [
              "<Figure size 432x288 with 1 Axes>"
            ]
          },
          "metadata": {
            "needs_background": "light"
          },
          "output_type": "display_data"
        }
      ],
      "source": [
        "control_df.groupby('district').delivery_time.hist()"
      ]
    },
    {
      "cell_type": "code",
      "execution_count": null,
      "metadata": {
        "id": "8r2rHN8-peXA",
        "outputId": "ab074bc5-203f-40b4-c348-d68ce6684f95"
      },
      "outputs": [
        {
          "data": {
            "image/png": "[encoded data removed]",
            "text/plain": [
              "<Figure size 360x288 with 1 Axes>"
            ]
          },
          "metadata": {
            "needs_background": "light"
          },
          "output_type": "display_data"
        }
      ],
      "source": [
        "pg.qqplot(control_df.delivery_time);"
      ]
    },
    {
      "cell_type": "code",
      "execution_count": null,
      "metadata": {
        "id": "13vm9Gv3peXA",
        "outputId": "0de139e0-1710-4a36-8eb4-fa77d5c4093e"
      },
      "outputs": [
        {
          "data": {
            "text/plain": [
              "NormaltestResult(statistic=0.25349755437872584, pvalue=0.8809549607809654)"
            ]
          },
          "execution_count": 20,
          "metadata": {},
          "output_type": "execute_result"
        }
      ],
      "source": [
        "ss.normaltest(control_df.delivery_time)"
      ]
    },
    {
      "cell_type": "code",
      "execution_count": null,
      "metadata": {
        "id": "888k3H2BpeXA",
        "outputId": "d6973d48-7d0d-4ec6-ce38-bf73cb77eb86"
      },
      "outputs": [
        {
          "data": {
            "text/plain": [
              "district\n",
              "Central     1727\n",
              "Purlieus    8179\n",
              "Suburb       198\n",
              "Name: delivery_time, dtype: int64"
            ]
          },
          "execution_count": 9,
          "metadata": {},
          "output_type": "execute_result"
        }
      ],
      "source": [
        "test_df.groupby('district').delivery_time.count()"
      ]
    },
    {
      "cell_type": "code",
      "execution_count": null,
      "metadata": {
        "id": "ScuetAeJpeXA",
        "outputId": "9de63229-65e6-4872-b47e-c7d398310091"
      },
      "outputs": [
        {
          "data": {
            "text/plain": [
              "district\n",
              "Central     AxesSubplot(0.125,0.125;0.775x0.755)\n",
              "Purlieus    AxesSubplot(0.125,0.125;0.775x0.755)\n",
              "Suburb      AxesSubplot(0.125,0.125;0.775x0.755)\n",
              "Name: delivery_time, dtype: object"
            ]
          },
          "execution_count": 10,
          "metadata": {},
          "output_type": "execute_result"
        },
        {
          "data": {
            "image/png": "[encoded data removed]",
            "text/plain": [
              "<Figure size 432x288 with 1 Axes>"
            ]
          },
          "metadata": {
            "needs_background": "light"
          },
          "output_type": "display_data"
        }
      ],
      "source": [
        "test_df.groupby('district').delivery_time.hist()"
      ]
    },
    {
      "cell_type": "code",
      "execution_count": null,
      "metadata": {
        "id": "8SPmfPTppeXA",
        "outputId": "3871e983-3895-4d78-afc0-cca0a20be1a4"
      },
      "outputs": [
        {
          "data": {
            "image/png": "[encoded data removed]",
            "text/plain": [
              "<Figure size 360x288 with 1 Axes>"
            ]
          },
          "metadata": {
            "needs_background": "light"
          },
          "output_type": "display_data"
        }
      ],
      "source": [
        "pg.qqplot(test_df.delivery_time);"
      ]
    },
    {
      "cell_type": "code",
      "execution_count": null,
      "metadata": {
        "id": "uIgP1cOmpeXB",
        "outputId": "f240d69b-9af8-439e-d62d-255becfdba76"
      },
      "outputs": [
        {
          "data": {
            "text/plain": [
              "NormaltestResult(statistic=7.024157092641915, pvalue=0.02983483685333173)"
            ]
          },
          "execution_count": 24,
          "metadata": {},
          "output_type": "execute_result"
        }
      ],
      "source": [
        "ss.normaltest(test_df.delivery_time)"
      ]
    },
    {
      "cell_type": "markdown",
      "metadata": {
        "id": "vAqW3_VrpeXB"
      },
      "source": [
        "_Гомогенность дисперсий_"
      ]
    },
    {
      "cell_type": "code",
      "execution_count": null,
      "metadata": {
        "id": "VuJ2Ns4rpeXB",
        "outputId": "19ec6737-3d18-4b65-d7c8-3e7f69ded796"
      },
      "outputs": [
        {
          "data": {
            "text/plain": [
              "LeveneResult(statistic=0.2702281101900882, pvalue=0.6031844931083392)"
            ]
          },
          "execution_count": 26,
          "metadata": {},
          "output_type": "execute_result"
        }
      ],
      "source": [
        "ss.levene(control_df.delivery_time, test_df.delivery_time)"
      ]
    },
    {
      "cell_type": "markdown",
      "metadata": {
        "id": "2IBhfRWJpeXB"
      },
      "source": [
        "=> можно считать дисперсиии гомогенными"
      ]
    },
    {
      "cell_type": "markdown",
      "metadata": {
        "id": "yTj5B_FppeXB"
      },
      "source": [
        "_Независимость наблюдений_ полагаем в силу дизайна эксперимента"
      ]
    },
    {
      "cell_type": "markdown",
      "metadata": {
        "id": "14C_-HsmpeXB"
      },
      "source": [
        "_Проверка гипотезы_"
      ]
    },
    {
      "cell_type": "code",
      "execution_count": null,
      "metadata": {
        "id": "jyP0tVuVpeXB",
        "outputId": "d333545a-9800-4737-ffd5-574fc2c20138"
      },
      "outputs": [
        {
          "data": {
            "text/plain": [
              "Ttest_indResult(statistic=43.03582663183714, pvalue=0.0)"
            ]
          },
          "execution_count": 27,
          "metadata": {},
          "output_type": "execute_result"
        }
      ],
      "source": [
        "st.ttest_ind(control_df.delivery_time, test_df.delivery_time)"
      ]
    },
    {
      "cell_type": "markdown",
      "metadata": {
        "id": "upYRjQqipeXB"
      },
      "source": [
        "p-value < 0.05 => гипотеза об изменении времени доставки справедлива"
      ]
    },
    {
      "cell_type": "code",
      "execution_count": null,
      "metadata": {
        "id": "yLX9Y_qRpeXB",
        "outputId": "b9db4d4a-6df9-4006-ae61-d09d0c0f736b"
      },
      "outputs": [
        {
          "data": {
            "image/png": "[encoded data removed]",
            "text/plain": [
              "<Figure size 432x288 with 1 Axes>"
            ]
          },
          "metadata": {
            "needs_background": "light"
          },
          "output_type": "display_data"
        }
      ],
      "source": [
        "sns.pointplot(data=df, x='experiment_group', y='delivery_time');"
      ]
    },
    {
      "cell_type": "markdown",
      "metadata": {
        "id": "co4_C6uMpeXC"
      },
      "source": [
        "**Вывод:** Фичу можно раскатывать, с ней время доставки статзначимо снизилось"
      ]
    },
    {
      "cell_type": "markdown",
      "metadata": {
        "id": "3CZu7rtxpeXC"
      },
      "source": [
        "Изменение среднего времени доставки в %"
      ]
    },
    {
      "cell_type": "code",
      "execution_count": null,
      "metadata": {
        "id": "b7m1M4wfpeXC",
        "outputId": "91bdb1a1-6642-4ab2-cc0c-dea555dfd230"
      },
      "outputs": [
        {
          "data": {
            "text/plain": [
              "-13.35"
            ]
          },
          "execution_count": 35,
          "metadata": {},
          "output_type": "execute_result"
        }
      ],
      "source": [
        "round(\n",
        "    (test_df.delivery_time.mean() - control_df.delivery_time.mean())\n",
        "    / control_df.delivery_time.mean()\n",
        "    * 100\n",
        "    , 2\n",
        ")"
      ]
    },
    {
      "cell_type": "markdown",
      "metadata": {
        "id": "-T2VRvy5peXC"
      },
      "source": [
        "Inspired by: KCM7L4P"
      ]
    }
  ],
  "metadata": {
    "kernelspec": {
      "display_name": "Python 3 (ipykernel)",
      "language": "python",
      "name": "python3"
    },
    "language_info": {
      "codemirror_mode": {
        "name": "ipython",
        "version": 3
      },
      "file_extension": ".py",
      "mimetype": "text/x-python",
      "name": "python",
      "nbconvert_exporter": "python",
      "pygments_lexer": "ipython3",
      "version": "3.11.4"
    },
    "colab": {
      "provenance": []
    }
  },
  "nbformat": 4,
  "nbformat_minor": 0
}